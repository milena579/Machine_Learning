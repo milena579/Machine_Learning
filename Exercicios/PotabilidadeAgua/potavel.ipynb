{
 "cells": [
  {
   "cell_type": "code",
   "execution_count": 1,
   "metadata": {},
   "outputs": [],
   "source": [
    "import matplotlib.pyplot as plt\n",
    "import pandas as pd\n",
    "import seaborn as sns\n",
    "from sklearn.tree import DecisionTreeClassifier\n",
    "from sklearn.model_selection import train_test_split, GridSearchCV\n",
    "from sklearn.metrics import accuracy_score, confusion_matrix"
   ]
  },
  {
   "cell_type": "code",
   "execution_count": 29,
   "metadata": {},
   "outputs": [],
   "source": [
    "df = pd.read_csv('../PotabilidadeAgua/water_potability.csv')\n",
    "\n",
    "Y =  df['Potability']\n",
    "X = df.drop('Potability', axis=1)\n",
    "\n",
    "X_train, X_test, Y_train, Y_test =  train_test_split(X, Y, test_size=0.30, random_state=42)"
   ]
  },
  {
   "cell_type": "code",
   "execution_count": 22,
   "metadata": {},
   "outputs": [],
   "source": [
    "model = DecisionTreeClassifier()"
   ]
  },
  {
   "cell_type": "code",
   "execution_count": 30,
   "metadata": {},
   "outputs": [],
   "source": [
    "model = DecisionTreeClassifier(\n",
    "    criterion = \"entropy\",\n",
    "    max_depth = 10,\n",
    "    min_samples_split = 10\n",
    ")"
   ]
  },
  {
   "cell_type": "code",
   "execution_count": 35,
   "metadata": {},
   "outputs": [],
   "source": [
    "parametros = {\n",
    "    'max_depth': [5, 10, 20, 50, 200],# Quantidade máxima de níveis na árvore\n",
    "    'min_samples_split': [5, 10],# Número mínimo de amostras necessárias para dividir um nó\n",
    "    'criterion': [\"gini\"]\n",
    "}\n",
    "\n",
    "dtc = DecisionTreeClassifier()\n",
    "\n",
    "model = GridSearchCV(\n",
    "    estimator = dtc,\n",
    "    param_grid = parametros,\n",
    "    cv = 5,\n",
    "    scoring = 'accuracy'\n",
    ")"
   ]
  },
  {
   "cell_type": "code",
   "execution_count": 36,
   "metadata": {},
   "outputs": [
    {
     "name": "stdout",
     "output_type": "stream",
     "text": [
      "Acurácia no treino: 0.6624509376362844\n",
      "Acurácia no teste: 0.6541200406917599\n",
      "Matriz confusao\n"
     ]
    },
    {
     "data": {
      "image/png": "[encoded data removed]",
      "text/plain": [
       "<Figure size 640x480 with 2 Axes>"
      ]
     },
     "metadata": {},
     "output_type": "display_data"
    }
   ],
   "source": [
    "model.fit(X_train, Y_train)\n",
    "\n",
    "Y_train_pred = model.predict(X_train)\n",
    "Y_test_pred = model.predict(X_test)\n",
    "\n",
    "accuracy_train =  accuracy_score(Y_train, Y_train_pred)\n",
    "accuracy_test =  accuracy_score(Y_test, Y_test_pred)\n",
    "\n",
    "print(f'Acurácia no treino: {accuracy_train}')\n",
    "print(f'Acurácia no teste: {accuracy_test}')\n",
    "\n",
    "\n",
    "print('Matriz confusao')\n",
    "\n",
    "cf_matriz = confusion_matrix(Y_test, Y_test_pred)\n",
    "sns.heatmap(cf_matriz, cmap='coolwarm', annot=True, linewidth=1, fmt='d', color='purple')\n",
    "plt.show()"
   ]
  }
 ],
 "metadata": {
  "kernelspec": {
   "display_name": "Python 3",
   "language": "python",
   "name": "python3"
  },
  "language_info": {
   "codemirror_mode": {
    "name": "ipython",
    "version": 3
   },
   "file_extension": ".py",
   "mimetype": "text/x-python",
   "name": "python",
   "nbconvert_exporter": "python",
   "pygments_lexer": "ipython3",
   "version": "3.12.1"
  }
 },
 "nbformat": 4,
 "nbformat_minor": 2
}

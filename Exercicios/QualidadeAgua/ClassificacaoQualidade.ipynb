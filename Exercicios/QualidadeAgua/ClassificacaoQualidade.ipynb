{
 "cells": [
  {
   "cell_type": "code",
   "execution_count": 1,
   "metadata": {},
   "outputs": [
    {
     "name": "stderr",
     "output_type": "stream",
     "text": [
      "<>:12: SyntaxWarning: invalid escape sequence '\\w'\n",
      "<>:12: SyntaxWarning: invalid escape sequence '\\w'\n",
      "C:\\Users\\disrct\\AppData\\Local\\Temp\\ipykernel_15756\\3991409993.py:12: SyntaxWarning: invalid escape sequence '\\w'\n",
      "  df = pd.read_csv('../QualidadeAgua\\waterQuality1.csv')\n"
     ]
    }
   ],
   "source": [
    "import pandas as pd\n",
    "import seaborn as sns\n",
    "import matplotlib.pyplot as plt\n",
    "from joblib import dump\n",
    "from sklearn.decomposition import PCA\n",
    "from sklearn.tree import DecisionTreeClassifier\n",
    "from sklearn.preprocessing import normalize\n",
    "from sklearn.metrics import  accuracy_score, classification_report, confusion_matrix\n",
    "from sklearn.model_selection import train_test_split, GridSearchCV, cross_val_score\n",
    "\n",
    "\n",
    "df = pd.read_csv('../QualidadeAgua\\waterQuality1.csv')\n",
    "df.replace(\"#NUM!\", pd.NA, inplace=True) #significa que a modificação será feita diretamente no próprio DataFrame, sem a necessidade de atribuí-lo novamente a uma variável.\n",
    "df = df.dropna()\n",
    "\n",
    "Y = df['is_safe']\n",
    "X = df.drop(['is_safe'], axis = 1)\n",
    "\n",
    "X_train, X_test, Y_train, Y_test = train_test_split(X, Y, test_size = 0.15, random_state = 42)\n",
    "\n"
   ]
  },
  {
   "cell_type": "code",
   "execution_count": null,
   "metadata": {},
   "outputs": [],
   "source": [
    "#Decision Tree Classifier\n",
    "\n",
    "model = DecisionTreeClassifier(\n",
    "criterion = \"entropy\",\n",
    "max_depth=20,\n",
    "min_samples_split=10\n",
    ")"
   ]
  },
  {
   "cell_type": "code",
   "execution_count": 4,
   "metadata": {},
   "outputs": [],
   "source": [
    "#Decision Tree Classifier whit GridSearchCV\n",
    "\n",
    "parametros = {\n",
    "    'max_depth': [5, 10, 20, 50, 200],# Quantidade máxima de níveis na árvore\n",
    "    'min_samples_split': [5, 10],# Número mínimo de amostras necessárias para dividir um nó\n",
    "    'criterion': [\"entropy\"]\n",
    "\n",
    "}\n",
    "\n",
    "# max_depth: Controla a profundidade máxima da árvore de decisão. \n",
    "#     Árvores muito profundas podem superajustar (overfitting), enquanto árvores muito rasas podem subajustar (underfitting).\n",
    "# min_samples_split: Define o número mínimo de amostras que um nó precisa ter para poder ser dividido em dois.\n",
    "#     Se for muito alto, a árvore não cresce muito; se for muito baixo, a árvore pode crescer demais e se tornar complexa.\n",
    "\n",
    "dtc = DecisionTreeClassifier()\n",
    "\n",
    "model = GridSearchCV(\n",
    "    estimator = dtc,\n",
    "    param_grid= parametros, \n",
    "    cv=5,  # 5-fold cross-validation\n",
    "    scoring='accuracy'\n",
    "\n",
    ")\n",
    "\n",
    "\n"
   ]
  },
  {
   "cell_type": "code",
   "execution_count": 6,
   "metadata": {},
   "outputs": [
    {
     "name": "stdout",
     "output_type": "stream",
     "text": [
      "Acurácia no treino: 0.985285462036492\n",
      "Acurácia no teste: 0.9533333333333334\n",
      "\n",
      "Relatório de Classificação (Teste):\n",
      "              precision    recall  f1-score   support\n",
      "\n",
      "           0       0.96      0.98      0.97      1047\n",
      "           1       0.87      0.75      0.80       153\n",
      "\n",
      "    accuracy                           0.95      1200\n",
      "   macro avg       0.92      0.86      0.89      1200\n",
      "weighted avg       0.95      0.95      0.95      1200\n",
      "\n",
      "\n",
      "Matriz de Confusão:\n"
     ]
    },
    {
     "data": {
      "image/png": "[encoded data removed]",
      "text/plain": [
       "<Figure size 640x480 with 2 Axes>"
      ]
     },
     "metadata": {},
     "output_type": "display_data"
    }
   ],
   "source": [
    "model.fit(X_train, Y_train)\n",
    "\n",
    "\n",
    "Y_train_pred = model.predict(X_train)\n",
    "Y_test_pred = model.predict(X_test)\n",
    "\n",
    "accuracy_train = accuracy_score(Y_train, Y_train_pred)\n",
    "accuracy_test = accuracy_score(Y_test, Y_test_pred)\n",
    "\n",
    "# Exibir resultados\n",
    "print(f'Acurácia no treino: {accuracy_train}')\n",
    "print(f'Acurácia no teste: {accuracy_test}')\n",
    "\n",
    "# Exibir relatório de classificação\n",
    "print(\"\\nRelatório de Classificação (Teste):\")\n",
    "print(classification_report(Y_test, Y_test_pred))\n",
    "\n",
    "# Exibir matriz de confusão\n",
    "print(\"\\nMatriz de Confusão:\")\n",
    "cf_matrix = confusion_matrix(Y_test, Y_test_pred)\n",
    "sns.heatmap(cf_matrix, cmap='coolwarm', annot=True, linewidth=1, fmt='d')\n",
    "plt.show()"
   ]
  }
 ],
 "metadata": {
  "kernelspec": {
   "display_name": "Python 3",
   "language": "python",
   "name": "python3"
  },
  "language_info": {
   "codemirror_mode": {
    "name": "ipython",
    "version": 3
   },
   "file_extension": ".py",
   "mimetype": "text/x-python",
   "name": "python",
   "nbconvert_exporter": "python",
   "pygments_lexer": "ipython3",
   "version": "3.12.1"
  }
 },
 "nbformat": 4,
 "nbformat_minor": 2
}

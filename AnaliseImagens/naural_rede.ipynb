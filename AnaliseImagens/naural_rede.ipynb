{
 "cells": [
  {
   "cell_type": "code",
   "execution_count": 8,
   "metadata": {},
   "outputs": [],
   "source": [
    "import os\n",
    "import shutil\n",
    "import pandas as pd\n",
    "from tensorflow.keras import models, layers, activations, \\\n",
    "    optimizers, utils, losses, initializers, metrics, callbacks\n"
   ]
  },
  {
   "cell_type": "code",
   "execution_count": null,
   "metadata": {},
   "outputs": [
    {
     "name": "stdout",
     "output_type": "stream",
     "text": [
      "Organização concluída!\n"
     ]
    }
   ],
   "source": [
    "origem_imagens = \"../AnaliseImagens/train\"\n",
    "\n",
    "destino_base = \"Imagens\"\n",
    "\n",
    "# Verifica se as colunas esperadas existem no CSV\n",
    "if 'filename' not in df.columns or 'label' not in df.columns:\n",
    "    raise ValueError(\"O CSV deve conter as colunas 'filename' e 'label'.\")\n",
    "\n",
    "for _, row in df.iterrows():\n",
    "    nome_arquivo = row['filename']  \n",
    "    classe = row['label']          \n",
    "\n",
    "    origem = os.path.join(origem_imagens, nome_arquivo)\n",
    "\n",
    "    destino_pasta = os.path.join(destino_base, classe)\n",
    "    \n",
    "    # Criar a pasta se não existir\n",
    "    os.makedirs(destino_pasta, exist_ok=True)\n",
    "\n",
    "    destino = os.path.join(destino_pasta, nome_arquivo)\n",
    "\n",
    "    if os.path.exists(origem):  # Verifica se a imagem existe antes de mover\n",
    "        shutil.move(origem, destino) \n",
    "\n",
    "\n"
   ]
  },
  {
   "cell_type": "code",
   "execution_count": 23,
   "metadata": {},
   "outputs": [],
   "source": [
    "path = 'C:/Users/disrct/Desktop/Machine_Learning/AnaliseImagens/Imagens'\n",
    "epcohs = 100\n",
    "batch_size = 32 # Número de amostras por batch\n",
    "patience = 5 # Número máximo de épocas sem melhora antes do early stopping\n",
    "learning_rate = 0.001 # Taxa de aprendizado"
   ]
  },
  {
   "cell_type": "code",
   "execution_count": 14,
   "metadata": {},
   "outputs": [],
   "source": [
    "model = models.Sequential([\n",
    "    layers.Resizing(56, 56), #muda o tamanho de todas as imagens padronizando elas\n",
    "    layers.Rescaling(1.0/255),#muda os valores do pixel e deixa entre 0 e 1\n",
    "    layers.RandomRotation((-0.2, 0.2)), #muda a rotação da imagem, girando ela e vendo de outros angulos\n",
    "\n",
    "    layers.Conv2D(32, (3, 3), #aplicação dos filtros serão 32 filtros 3x3\n",
    "        activation =  'relu',\n",
    "        kernel_initializer =  initializers.RandomNormal()\n",
    "    ),\n",
    "    layers.MaxPooling2D((2, 2)), #pega o valor maximo de cada quadrado nessa caso 2x2\n",
    "\n",
    "    layers.Conv2D(64, (4, 4), #2048 @ 24x24 64 filtros x 32 imgs\n",
    "        activation =  'relu',\n",
    "        kernel_initializer =  initializers.RandomNormal()          \n",
    "    ),\n",
    "    layers.MaxPooling2D((3, 3)), #2048 @ 8x8\n",
    "\n",
    "    layers.Flatten(), #pega todos os valores e transforma em um vetor gigante +- 125k\n",
    "\n",
    "    layers.Dropout(0.2), # a cada época serão dropados 20% dos neuronios\n",
    "\n",
    "    #Camada de processamento\n",
    "    layers.Dense(200,\n",
    "        activation =  'relu',\n",
    "        kernel_initializer =  initializers.RandomNormal()  \n",
    "    ),\n",
    "                  \n",
    "    layers.Dense(128,\n",
    "        activation =  'relu',\n",
    "        kernel_initializer =  initializers.RandomNormal()  \n",
    "    ),\n",
    "\n",
    "    layers.Dense(64,\n",
    "        activation =  'relu',\n",
    "        kernel_initializer =  initializers.RandomNormal()  \n",
    "    ),\n",
    "\n",
    "    layers.Dense(1,\n",
    "        activation =  'sigmoid',\n",
    "        kernel_initializer =  initializers.RandomNormal()  \n",
    "    ),\n",
    "\n",
    "])"
   ]
  },
  {
   "cell_type": "code",
   "execution_count": 15,
   "metadata": {},
   "outputs": [],
   "source": [
    "model.compile(\n",
    "    optimizer = optimizers.Adam(\n",
    "        learning_rate = learning_rate\n",
    "    ),\n",
    "    loss = losses.CategoricalCrossentropy(),\n",
    "    metrics = [\n",
    "        metrics.CategoricalAccuracy(),\n",
    "        metrics.Precision(),\n",
    "        metrics.Recall()\n",
    "    ]\n",
    ")"
   ]
  },
  {
   "cell_type": "code",
   "execution_count": 20,
   "metadata": {},
   "outputs": [
    {
     "name": "stdout",
     "output_type": "stream",
     "text": [
      "Found 6499 files belonging to 75 classes.\n",
      "Using 5200 files for training.\n"
     ]
    }
   ],
   "source": [
    "train = utils.image_dataset_from_directory(\n",
    "    path,\n",
    "    validation_split = 0.2,\n",
    "    subset = \"training\",\n",
    "    shuffle = True,\n",
    "    seed = 42,\n",
    "    image_size = (224, 224),\n",
    "    batch_size = batch_size \n",
    ")"
   ]
  },
  {
   "cell_type": "code",
   "execution_count": 21,
   "metadata": {},
   "outputs": [
    {
     "name": "stdout",
     "output_type": "stream",
     "text": [
      "Found 6499 files belonging to 75 classes.\n",
      "Using 1299 files for validation.\n"
     ]
    }
   ],
   "source": [
    "test = utils.image_dataset_from_directory(\n",
    "    path,\n",
    "    validation_split = 0.2,\n",
    "    subset = \"validation\",\n",
    "    shuffle = True,\n",
    "    seed = 42,\n",
    "    image_size = (224, 224),\n",
    "    batch_size = batch_size \n",
    ")"
   ]
  },
  {
   "cell_type": "code",
   "execution_count": 24,
   "metadata": {},
   "outputs": [
    {
     "ename": "NameError",
     "evalue": "name 'epochs' is not defined",
     "output_type": "error",
     "traceback": [
      "\u001b[1;31m---------------------------------------------------------------------------\u001b[0m",
      "\u001b[1;31mNameError\u001b[0m                                 Traceback (most recent call last)",
      "Cell \u001b[1;32mIn[24], line 4\u001b[0m\n\u001b[0;32m      1\u001b[0m model\u001b[38;5;241m.\u001b[39mfit(\n\u001b[0;32m      2\u001b[0m     train,\n\u001b[0;32m      3\u001b[0m     validation_data \u001b[38;5;241m=\u001b[39m test,\n\u001b[1;32m----> 4\u001b[0m     epochs \u001b[38;5;241m=\u001b[39m \u001b[43mepochs\u001b[49m,\n\u001b[0;32m      5\u001b[0m     callbacks \u001b[38;5;241m=\u001b[39m [\n\u001b[0;32m      6\u001b[0m         callbacks\u001b[38;5;241m.\u001b[39mEarlyStopping(\n\u001b[0;32m      7\u001b[0m             monitor \u001b[38;5;241m=\u001b[39m \u001b[38;5;124m'\u001b[39m\u001b[38;5;124mval_loss\u001b[39m\u001b[38;5;124m'\u001b[39m,\n\u001b[0;32m      8\u001b[0m             patience \u001b[38;5;241m=\u001b[39m patience,\n\u001b[0;32m      9\u001b[0m             verbose \u001b[38;5;241m=\u001b[39m \u001b[38;5;241m1\u001b[39m\n\u001b[0;32m     10\u001b[0m         )\n\u001b[0;32m     11\u001b[0m         \u001b[38;5;66;03m# callbacks.ModelCheckpoint(\u001b[39;00m\n\u001b[0;32m     12\u001b[0m         \u001b[38;5;66;03m#     filepath = model_path,\u001b[39;00m\n\u001b[0;32m     13\u001b[0m         \u001b[38;5;66;03m#     save_weights_only = False,\u001b[39;00m\n\u001b[0;32m     14\u001b[0m         \u001b[38;5;66;03m#     monitor = 'loss',\u001b[39;00m\n\u001b[0;32m     15\u001b[0m         \u001b[38;5;66;03m#     mode = 'min',\u001b[39;00m\n\u001b[0;32m     16\u001b[0m         \u001b[38;5;66;03m#     save_best_only = True\u001b[39;00m\n\u001b[0;32m     17\u001b[0m         \u001b[38;5;66;03m# )\u001b[39;00m\n\u001b[0;32m     18\u001b[0m     ]\n\u001b[0;32m     19\u001b[0m )\n",
      "\u001b[1;31mNameError\u001b[0m: name 'epochs' is not defined"
     ]
    }
   ],
   "source": [
    "model.fit(\n",
    "    train,\n",
    "    validation_data = test,\n",
    "    epochs = epochs,\n",
    "    callbacks = [\n",
    "        callbacks.EarlyStopping(\n",
    "            monitor = 'val_loss',\n",
    "            patience = patience,\n",
    "            verbose = 1\n",
    "        )\n",
    "        # callbacks.ModelCheckpoint(\n",
    "        #     filepath = model_path,\n",
    "        #     save_weights_only = False,\n",
    "        #     monitor = 'loss',\n",
    "        #     mode = 'min',\n",
    "        #     save_best_only = True\n",
    "        # )\n",
    "    ]\n",
    ")"
   ]
  }
 ],
 "metadata": {
  "kernelspec": {
   "display_name": "Python 3",
   "language": "python",
   "name": "python3"
  },
  "language_info": {
   "codemirror_mode": {
    "name": "ipython",
    "version": 3
   },
   "file_extension": ".py",
   "mimetype": "text/x-python",
   "name": "python",
   "nbconvert_exporter": "python",
   "pygments_lexer": "ipython3",
   "version": "3.12.1"
  }
 },
 "nbformat": 4,
 "nbformat_minor": 2
}

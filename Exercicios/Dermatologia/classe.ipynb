{
 "cells": [
  {
   "cell_type": "code",
   "execution_count": null,
   "metadata": {},
   "outputs": [],
   "source": [
    "import pandas as pd\n",
    "import seaborn as sns\n",
    "import matplotlib.pyplot as plt\n",
    "from joblib import dump\n",
    "from sklearn.decomposition import PCA\n",
    "from sklearn.tree import DecisionTreeClassifier\n",
    "from sklearn.preprocessing import normalize\n",
    "from sklearn.metrics import  accuracy_score, classification_report, confusion_matrix\n",
    "from sklearn.model_selection import train_test_split, GridSearchCV, cross_val_score\n",
    "\n"
   ]
  },
  {
   "cell_type": "code",
   "execution_count": null,
   "metadata": {},
   "outputs": [],
   "source": [
    "df = pd.read_csv('/kaggle/input/dermatology-dataset-classification/dermatology_database_1.csv')\n",
    "\n",
    "Y = df['class']\n",
    "X = df.drop(['class', 'age'], axis=1)\n",
    "\n",
    "X_train, X_test, Y_train, Y_test = train_test_split( X, Y, test_size = 0.30,random_state = 42 )"
   ]
  },
  {
   "cell_type": "code",
   "execution_count": null,
   "metadata": {},
   "outputs": [],
   "source": [
    "model = DecisionTreeClassifier()"
   ]
  },
  {
   "cell_type": "code",
   "execution_count": null,
   "metadata": {},
   "outputs": [],
   "source": [
    "model = DecisionTreeClassifier(\n",
    "    criterion = \"entropy\",\n",
    "    max_depth = 10,\n",
    "    min_samples_split = 10\n",
    ")"
   ]
  },
  {
   "cell_type": "code",
   "execution_count": null,
   "metadata": {},
   "outputs": [],
   "source": [
    "parametros = {\n",
    "    'max_depth': [5, 10, 20, 50, 200],# Quantidade máxima de níveis na árvore\n",
    "    'min_samples_split': [5, 10],# Número mínimo de amostras necessárias para dividir um nó\n",
    "    'criterion': [\"entropy\"]\n",
    "}\n",
    "\n",
    "dtc = DecisionTreeClassifier()\n",
    "\n",
    "model = GridSearchCV(\n",
    "    estimator = dtc,\n",
    "    param_grid = parametros,\n",
    "    cv = 5,\n",
    "    scoring = 'accuracy'\n",
    ")"
   ]
  },
  {
   "cell_type": "code",
   "execution_count": null,
   "metadata": {},
   "outputs": [],
   "source": [
    "model.fit(X_train, Y_train)\n",
    "\n",
    "Y_train_pred = model.predict(X_train)\n",
    "Y_test_pred = model.predict(X_test)\n",
    "\n",
    "accuracy_train = accuracy_score(Y_train, Y_train_pred)\n",
    "accuracy_test = accuracy_score(Y_test, Y_test_pred)\n",
    "\n",
    "print(f'Acurácia no treino: {accuracy_train}')\n",
    "print(f'Acurácia no teste: {accuracy_test}')\n",
    "\n",
    "\n",
    "print('Matriz confusao')\n",
    "\n",
    "cf_matriz = confusion_matrix(Y_test, Y_test_pred)\n",
    "sns.heatmap(cf_matriz, cmap='coolwarm', annot=True, linewidth=1, fmt='d', color='purple')\n",
    "plt.show()"
   ]
  }
 ],
 "metadata": {
  "language_info": {
   "name": "python"
  }
 },
 "nbformat": 4,
 "nbformat_minor": 2
}

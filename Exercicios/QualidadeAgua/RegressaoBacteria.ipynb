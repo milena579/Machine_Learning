{
 "cells": [
  {
   "cell_type": "code",
   "execution_count": 15,
   "metadata": {},
   "outputs": [
    {
     "name": "stderr",
     "output_type": "stream",
     "text": [
      "<>:13: SyntaxWarning: invalid escape sequence '\\w'\n",
      "<>:13: SyntaxWarning: invalid escape sequence '\\w'\n",
      "C:\\Users\\disrct\\AppData\\Local\\Temp\\ipykernel_10628\\1538111571.py:13: SyntaxWarning: invalid escape sequence '\\w'\n",
      "  df = pd.read_csv('../QualidadeAgua\\waterQuality1.csv')\n"
     ]
    }
   ],
   "source": [
    "import pandas as pd\n",
    "import matplotlib.pyplot as plt\n",
    "from joblib import dump\n",
    "from sklearn.decomposition import PCA\n",
    "from sklearn.calibration import LabelEncoder\n",
    "from sklearn.linear_model import ElasticNet\n",
    "from sklearn.tree import DecisionTreeRegressor\n",
    "from sklearn.preprocessing import normalize\n",
    "from sklearn.metrics import mean_absolute_error, r2_score\n",
    "from sklearn.model_selection import train_test_split, GridSearchCV, cross_val_score\n",
    "\n",
    "\n",
    "df = pd.read_csv('../QualidadeAgua\\waterQuality1.csv')\n",
    "df.replace(\"#NUM!\", pd.NA, inplace=True)\n",
    "df = df.dropna()\n",
    "\n",
    "Y = df['bacteria']\n",
    "X = df.drop(['bacteria'], axis = 1)\n",
    "\n",
    "X_train, X_test, Y_train, Y_test = train_test_split(X, Y, test_size = 0.15, random_state = 42)\n",
    "\n"
   ]
  },
  {
   "cell_type": "code",
   "execution_count": null,
   "metadata": {},
   "outputs": [],
   "source": [
    "#Elastic Net\n",
    "model = GridSearchCV(\n",
    "    ElasticNet(fit_intercept = True),\n",
    "    {\n",
    "        'alpha': list(map(lambda x: x/10, range(1, 10))),\n",
    "        'l1_ratio': list(map(lambda x: x/10, range(1, 10))),\n",
    "    },\n",
    "\n",
    "    n_jobs = 4\n",
    ")"
   ]
  },
  {
   "cell_type": "code",
   "execution_count": null,
   "metadata": {},
   "outputs": [],
   "source": [
    "#Decision Tree Regressor\n",
    "\n",
    "parametros = {\n",
    "    'max_depth': [ 5, 10, 20, 50, 200],# Quantidade máxima de níveis na árvore\n",
    "    'min_samples_split': [5, 10]# Número mínimo de amostras necessárias para dividir um nó\n",
    "}\n",
    "\n",
    "# max_depth: Controla a profundidade máxima da árvore de decisão. \n",
    "#     Árvores muito profundas podem superajustar (overfitting), enquanto árvores muito rasas podem subajustar (underfitting).\n",
    "# min_samples_split: Define o número mínimo de amostras que um nó precisa ter para poder ser dividido em dois.\n",
    "#     Se for muito alto, a árvore não cresce muito; se for muito baixo, a árvore pode crescer demais e se tornar complexa.\n",
    "\n",
    "dtr = DecisionTreeRegressor()\n",
    "\n",
    "model = GridSearchCV(\n",
    "    estimator = dtr,\n",
    "    param_grid = parametros,\n",
    "    cv = 5\n",
    ")"
   ]
  },
  {
   "cell_type": "code",
   "execution_count": 17,
   "metadata": {},
   "outputs": [
    {
     "name": "stdout",
     "output_type": "stream",
     "text": [
      "Melhores parametros: {'max_depth': 5, 'min_samples_split': 10}\n",
      "Erro medio absoluto: 0.10997190121440953\n",
      "Erro de treino: 0.10934777655844133\n",
      "Erro de test: 0.11350652718270951\n"
     ]
    }
   ],
   "source": [
    "model.fit(X_train, Y_train)\n",
    "print(f'Melhores parametros: {model.best_params_}')\n",
    "\n",
    "model = model.best_estimator_\n",
    "dump(model, 'model.pkl')\n",
    "print(f'Erro medio absoluto: {mean_absolute_error(Y, model.predict(X))}') #erro medio entre os valores previstos e os valores reais\n",
    "\n",
    "Y_train_pred = model.predict(X_train)\n",
    "Y_test_pred = model.predict(X_test)\n",
    "\n",
    "error_test = mean_absolute_error(Y_test, Y_test_pred)\n",
    "error_train = mean_absolute_error(Y_train, Y_train_pred)\n",
    "\n",
    "print(f'Erro de treino: {error_train}')\n",
    "print(f'Erro de test: {error_test}')"
   ]
  }
 ],
 "metadata": {
  "kernelspec": {
   "display_name": "Python 3",
   "language": "python",
   "name": "python3"
  },
  "language_info": {
   "codemirror_mode": {
    "name": "ipython",
    "version": 3
   },
   "file_extension": ".py",
   "mimetype": "text/x-python",
   "name": "python",
   "nbconvert_exporter": "python",
   "pygments_lexer": "ipython3",
   "version": "3.12.1"
  }
 },
 "nbformat": 4,
 "nbformat_minor": 2
}
